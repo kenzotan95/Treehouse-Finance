{
 "cells": [
  {
   "cell_type": "code",
   "execution_count": 1,
   "id": "dba3a036",
   "metadata": {},
   "outputs": [],
   "source": [
    "import pandas as pd\n",
    "import numpy as np"
   ]
  },
  {
   "cell_type": "code",
   "execution_count": 10,
   "id": "53cce4da",
   "metadata": {},
   "outputs": [
    {
     "data": {
      "text/html": [
       "<div>\n",
       "<style scoped>\n",
       "    .dataframe tbody tr th:only-of-type {\n",
       "        vertical-align: middle;\n",
       "    }\n",
       "\n",
       "    .dataframe tbody tr th {\n",
       "        vertical-align: top;\n",
       "    }\n",
       "\n",
       "    .dataframe thead th {\n",
       "        text-align: right;\n",
       "    }\n",
       "</style>\n",
       "<table border=\"1\" class=\"dataframe\">\n",
       "  <thead>\n",
       "    <tr style=\"text-align: right;\">\n",
       "      <th></th>\n",
       "      <th>id</th>\n",
       "      <th>Name</th>\n",
       "      <th>Salary</th>\n",
       "      <th>manager_id</th>\n",
       "    </tr>\n",
       "  </thead>\n",
       "  <tbody>\n",
       "    <tr>\n",
       "      <th>0</th>\n",
       "      <td>1</td>\n",
       "      <td>John</td>\n",
       "      <td>300</td>\n",
       "      <td>3.0</td>\n",
       "    </tr>\n",
       "    <tr>\n",
       "      <th>1</th>\n",
       "      <td>2</td>\n",
       "      <td>Mike</td>\n",
       "      <td>200</td>\n",
       "      <td>3.0</td>\n",
       "    </tr>\n",
       "    <tr>\n",
       "      <th>2</th>\n",
       "      <td>3</td>\n",
       "      <td>Sally</td>\n",
       "      <td>550</td>\n",
       "      <td>4.0</td>\n",
       "    </tr>\n",
       "    <tr>\n",
       "      <th>3</th>\n",
       "      <td>4</td>\n",
       "      <td>Jane</td>\n",
       "      <td>500</td>\n",
       "      <td>7.0</td>\n",
       "    </tr>\n",
       "    <tr>\n",
       "      <th>4</th>\n",
       "      <td>5</td>\n",
       "      <td>Joe</td>\n",
       "      <td>600</td>\n",
       "      <td>7.0</td>\n",
       "    </tr>\n",
       "    <tr>\n",
       "      <th>5</th>\n",
       "      <td>6</td>\n",
       "      <td>Dan</td>\n",
       "      <td>600</td>\n",
       "      <td>3.0</td>\n",
       "    </tr>\n",
       "    <tr>\n",
       "      <th>6</th>\n",
       "      <td>7</td>\n",
       "      <td>Phil</td>\n",
       "      <td>550</td>\n",
       "      <td>NaN</td>\n",
       "    </tr>\n",
       "  </tbody>\n",
       "</table>\n",
       "</div>"
      ],
      "text/plain": [
       "   id   Name  Salary  manager_id\n",
       "0   1   John     300         3.0\n",
       "1   2   Mike     200         3.0\n",
       "2   3  Sally     550         4.0\n",
       "3   4   Jane     500         7.0\n",
       "4   5    Joe     600         7.0\n",
       "5   6    Dan     600         3.0\n",
       "6   7   Phil     550         NaN"
      ]
     },
     "execution_count": 10,
     "metadata": {},
     "output_type": "execute_result"
    }
   ],
   "source": [
    "data = {'id': list(range(1,8)), \n",
    "        'Name': ['John','Mike','Sally','Jane','Joe','Dan','Phil'],\n",
    "        'Salary': [300,200,550,500,600,600,550],\n",
    "        'manager_id': [3,3,4,7,7,3,None]}\n",
    "df = pd.DataFrame(data)\n",
    "df"
   ]
  },
  {
   "cell_type": "code",
   "execution_count": 31,
   "id": "bff8d0ca",
   "metadata": {},
   "outputs": [
    {
     "name": "stdout",
     "output_type": "stream",
     "text": [
      "Employee's salary greater than their immediate manager's: Sally\n",
      "Employee's salary greater than their immediate manager's: Joe\n",
      "Employee's salary greater than their immediate manager's: Dan\n"
     ]
    }
   ],
   "source": [
    "'''Q1a: Give the name of employees, whose salaries are greater than their immediate manager’s'''\n",
    "# df[(df['Salary'] >= df['Salary'][6]) & (df['manager_id'] <= 7)]\n",
    "\n",
    "for i in range(len(df)):\n",
    "    a = df.iloc[i]\n",
    "    if np.isnan(a['manager_id']):\n",
    "        pass\n",
    "    else:\n",
    "        if a['Salary'] > df['Salary'][a['manager_id']-1]:\n",
    "            print(f\"Employee's salary greater than their immediate manager's: {a['Name']}\")"
   ]
  },
  {
   "cell_type": "code",
   "execution_count": 36,
   "id": "74084546",
   "metadata": {},
   "outputs": [
    {
     "name": "stdout",
     "output_type": "stream",
     "text": [
      "The average salary of employees who do not manage anyone is $425.0\n"
     ]
    }
   ],
   "source": [
    "'''Q1b: What is the average salary of employees who do not manage anyone? In the sample above, \n",
    "that would be John, Mike, Joe and Dan, since they do not have anyone reporting to them?'''\n",
    "\n",
    "m = df[np.isin(df['id'], df['manager_id'].tolist(), invert=True)]['Salary'].mean()\n",
    "print(f\"The average salary of employees who do not manage anyone is ${m}\")"
   ]
  },
  {
   "cell_type": "code",
   "execution_count": null,
   "id": "2a774397",
   "metadata": {},
   "outputs": [],
   "source": [
    "'''Q2: Write a function ‘exists’ which takes a variable symbol v and returns whether v is defined.'''\n",
    "\n"
   ]
  }
 ],
 "metadata": {
  "kernelspec": {
   "display_name": "Python 3",
   "language": "python",
   "name": "python3"
  },
  "language_info": {
   "codemirror_mode": {
    "name": "ipython",
    "version": 3
   },
   "file_extension": ".py",
   "mimetype": "text/x-python",
   "name": "python",
   "nbconvert_exporter": "python",
   "pygments_lexer": "ipython3",
   "version": "3.8.10"
  }
 },
 "nbformat": 4,
 "nbformat_minor": 5
}
