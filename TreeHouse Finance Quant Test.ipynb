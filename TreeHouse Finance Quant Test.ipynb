{
 "cells": [
  {
   "cell_type": "code",
   "execution_count": 1,
   "id": "35a72a47",
   "metadata": {},
   "outputs": [],
   "source": [
    "import pandas as pd\n",
    "import numpy as np"
   ]
  },
  {
   "cell_type": "code",
   "execution_count": 2,
   "id": "219dfcce",
   "metadata": {},
   "outputs": [
    {
     "data": {
      "text/html": [
       "<div>\n",
       "<style scoped>\n",
       "    .dataframe tbody tr th:only-of-type {\n",
       "        vertical-align: middle;\n",
       "    }\n",
       "\n",
       "    .dataframe tbody tr th {\n",
       "        vertical-align: top;\n",
       "    }\n",
       "\n",
       "    .dataframe thead th {\n",
       "        text-align: right;\n",
       "    }\n",
       "</style>\n",
       "<table border=\"1\" class=\"dataframe\">\n",
       "  <thead>\n",
       "    <tr style=\"text-align: right;\">\n",
       "      <th></th>\n",
       "      <th>id</th>\n",
       "      <th>Name</th>\n",
       "      <th>Salary</th>\n",
       "      <th>manager_id</th>\n",
       "    </tr>\n",
       "  </thead>\n",
       "  <tbody>\n",
       "    <tr>\n",
       "      <th>0</th>\n",
       "      <td>1</td>\n",
       "      <td>John</td>\n",
       "      <td>300</td>\n",
       "      <td>3.0</td>\n",
       "    </tr>\n",
       "    <tr>\n",
       "      <th>1</th>\n",
       "      <td>2</td>\n",
       "      <td>Mike</td>\n",
       "      <td>200</td>\n",
       "      <td>3.0</td>\n",
       "    </tr>\n",
       "    <tr>\n",
       "      <th>2</th>\n",
       "      <td>3</td>\n",
       "      <td>Sally</td>\n",
       "      <td>550</td>\n",
       "      <td>4.0</td>\n",
       "    </tr>\n",
       "    <tr>\n",
       "      <th>3</th>\n",
       "      <td>4</td>\n",
       "      <td>Jane</td>\n",
       "      <td>500</td>\n",
       "      <td>7.0</td>\n",
       "    </tr>\n",
       "    <tr>\n",
       "      <th>4</th>\n",
       "      <td>5</td>\n",
       "      <td>Joe</td>\n",
       "      <td>600</td>\n",
       "      <td>7.0</td>\n",
       "    </tr>\n",
       "    <tr>\n",
       "      <th>5</th>\n",
       "      <td>6</td>\n",
       "      <td>Dan</td>\n",
       "      <td>600</td>\n",
       "      <td>3.0</td>\n",
       "    </tr>\n",
       "    <tr>\n",
       "      <th>6</th>\n",
       "      <td>7</td>\n",
       "      <td>Phil</td>\n",
       "      <td>550</td>\n",
       "      <td>NaN</td>\n",
       "    </tr>\n",
       "  </tbody>\n",
       "</table>\n",
       "</div>"
      ],
      "text/plain": [
       "   id   Name  Salary  manager_id\n",
       "0   1   John     300         3.0\n",
       "1   2   Mike     200         3.0\n",
       "2   3  Sally     550         4.0\n",
       "3   4   Jane     500         7.0\n",
       "4   5    Joe     600         7.0\n",
       "5   6    Dan     600         3.0\n",
       "6   7   Phil     550         NaN"
      ]
     },
     "execution_count": 2,
     "metadata": {},
     "output_type": "execute_result"
    }
   ],
   "source": [
    "data = {'id': list(range(1,8)), \n",
    "        'Name': ['John','Mike','Sally','Jane','Joe','Dan','Phil'],\n",
    "        'Salary': [300,200,550,500,600,600,550],\n",
    "        'manager_id': [3,3,4,7,7,3,None]}\n",
    "df = pd.DataFrame(data)\n",
    "df"
   ]
  },
  {
   "cell_type": "code",
   "execution_count": 3,
   "id": "000eef42",
   "metadata": {},
   "outputs": [
    {
     "name": "stdout",
     "output_type": "stream",
     "text": [
      "Employee's salary greater than their immediate manager's: Sally\n",
      "Employee's salary greater than their immediate manager's: Joe\n",
      "Employee's salary greater than their immediate manager's: Dan\n"
     ]
    }
   ],
   "source": [
    "'''Q1a: Give the name of employees, whose salaries are greater than their immediate manager’s'''\n",
    "# df[(df['Salary'] >= df['Salary'][6]) & (df['manager_id'] <= 7)]\n",
    "\n",
    "for i in range(len(df)):\n",
    "    a = df.iloc[i]\n",
    "    if np.isnan(a['manager_id']):\n",
    "        pass\n",
    "    else:\n",
    "        if a['Salary'] > df['Salary'][a['manager_id']-1]:\n",
    "            print(f\"Employee's salary greater than their immediate manager's: {a['Name']}\")"
   ]
  },
  {
   "cell_type": "code",
   "execution_count": 4,
   "id": "e102dc46",
   "metadata": {},
   "outputs": [
    {
     "name": "stdout",
     "output_type": "stream",
     "text": [
      "The average salary of employees who do not manage anyone is $425.0\n"
     ]
    }
   ],
   "source": [
    "'''Q1b: What is the average salary of employees who do not manage anyone? In the sample above, \n",
    "that would be John, Mike, Joe and Dan, since they do not have anyone reporting to them?'''\n",
    "\n",
    "m = df[np.isin(df['id'], df['manager_id'].tolist(), invert=True)]['Salary'].mean()\n",
    "print(f\"The average salary of employees who do not manage anyone is ${m}\")"
   ]
  },
  {
   "cell_type": "code",
   "execution_count": 22,
   "id": "01c806ca",
   "metadata": {},
   "outputs": [
    {
     "name": "stdout",
     "output_type": "stream",
     "text": [
      "v is undefined\n"
     ]
    }
   ],
   "source": [
    "'''Q2: Write a function ‘exists’ which takes a variable symbol v and returns whether v is defined.'''\n",
    "# print(globals()['v'])\n",
    "\n",
    "def exists(v):\n",
    "    try: \n",
    "        return \"v is defined\"\n",
    "    except (NameError, RuntimeError, TypeError):\n",
    "        return \"variable is undefined\"\n",
    "\n",
    "try:\n",
    "    exists(w)\n",
    "except:\n",
    "    print(\"variable is undefined\")"
   ]
  },
  {
   "cell_type": "code",
   "execution_count": 56,
   "id": "85900f1d",
   "metadata": {},
   "outputs": [
    {
     "name": "stdout",
     "output_type": "stream",
     "text": [
      "[1]\n",
      "[1, 1]\n",
      "[1, 2, 1]\n",
      "[1, 3, 3, 1]\n",
      "[1, 4, 6, 4, 1]\n"
     ]
    },
    {
     "data": {
      "text/plain": [
       "[[1], [1, 1], [1, 2, 1], [1, 3, 3, 1], [1, 4, 6, 4, 1]]"
      ]
     },
     "execution_count": 56,
     "metadata": {},
     "output_type": "execute_result"
    }
   ],
   "source": [
    "'''Q3: Create a function to compute N layer of a Pascal Triangle.'''\n",
    "\n",
    "def pascal(n):\n",
    "    if n==0:\n",
    "        return [1]\n",
    "    elif n==1:\n",
    "        return [1, 1]\n",
    "    else:\n",
    "        N = pascal(n-1)\n",
    "        return [1] + [N[i] + N[i+1] for i in range(n-1)] + [1]\n",
    "\n",
    "\n",
    "def pascal_triangle(n):\n",
    "    res = []\n",
    "    for i in range(n):\n",
    "        print(pascal(i))\n",
    "        res.append(pascal(i))\n",
    "    return res\n",
    "pascal_triangle(5)"
   ]
  },
  {
   "cell_type": "code",
   "execution_count": null,
   "id": "66e754ca",
   "metadata": {},
   "outputs": [],
   "source": [
    "'''Q4a: Using historical daily returns (Yahoo/Google Finance or any other market data\n",
    "source), calculate VaR95% and CVaR95% of the portfolio as of 2016/12/31'''\n",
    "\n",
    "from pandas_data"
   ]
  },
  {
   "cell_type": "code",
   "execution_count": 48,
   "id": "f372fb26",
   "metadata": {},
   "outputs": [],
   "source": [
    "'''Q5: Assume you have a Python project, which source code is under a git repo folder\n",
    "“my-python-project”. Write a program/script to produce the following statistics of this folder\n",
    "a. How many python files: (done)\n",
    "b. How many lines of code in total, how many lines of comment line (empty line doesn’t\n",
    "count): (done)\n",
    "c. How many functions is defined in total: (done)\n",
    "d. How many lines of changes from the current version against HEAD~3\n",
    "--> can use git command to check files changed, insertions. --> git log --numstat\n",
    "e. Total folder size (in MB) per each of the subfolder (down to 2 level depth): ??? don't understand'''\n",
    "\n",
    "import os, os.path\n",
    "\n",
    "def folder_stats(file_path):\n",
    "    n_p_f = 0\n",
    "    n_fn = 0\n",
    "    n_l = [0, 0, 0] # t, c, e\n",
    "    for root, dirs, files in os.walk(file_path):\n",
    "        for f_name in files:\n",
    "            if \".py\" in f_name:\n",
    "                n_p_f+=1\n",
    "                file = open(file_path+f_name)\n",
    "                for line in file:\n",
    "                    if line != \"\\n\":\n",
    "                        n_l[0]+=1\n",
    "#                     if line == \"\\n\":\n",
    "#                         n_l[2]+=1\n",
    "                    if \"#\" in line.replace(\" \", \"\")[0]:\n",
    "                        n_l[1]+=1\n",
    "                    if \"def \" in line:\n",
    "                        n_fn+=1\n",
    "    \n",
    "    return print(f\"# of python files: {n_p_f}, total lines of code: {n_l[0]}, # of comments: {n_l[1]}, total functions: {n_fn}\")"
   ]
  },
  {
   "cell_type": "code",
   "execution_count": 50,
   "id": "b6d9eef2",
   "metadata": {},
   "outputs": [],
   "source": [
    "'''Q6: In a text file, give me total number of appearance of “date” within the text file The date\n",
    "format can appears in either one (or multiple) formats shown below:\n",
    "a. YYYY/MM/DD\n",
    "b. MM/DD/YYYY\n",
    "c. DD/MM/YYYY\n",
    "d. DD (Jan/Feb/Mar/Apr/May/Jun/Jul/Aug/Sept/Oct/Nov/Dec) YYYY\n",
    "Assuming the input is a text file and not the text data contained.'''\n",
    "\n",
    "import dateparser\n",
    "\n",
    "def datecount(txt):\n",
    "    with open(txt, 'r') as file:\n",
    "        data = file.read().splitlines()\n",
    "    counter = 0\n",
    "    for i in data:\n",
    "        if dateparser.parse(i) is not None:\n",
    "            counter+=1\n",
    "    return counter"
   ]
  },
  {
   "cell_type": "code",
   "execution_count": null,
   "id": "b6b49e0b",
   "metadata": {},
   "outputs": [],
   "source": []
  }
 ],
 "metadata": {
  "kernelspec": {
   "display_name": "Python 3",
   "language": "python",
   "name": "python3"
  },
  "language_info": {
   "codemirror_mode": {
    "name": "ipython",
    "version": 3
   },
   "file_extension": ".py",
   "mimetype": "text/x-python",
   "name": "python",
   "nbconvert_exporter": "python",
   "pygments_lexer": "ipython3",
   "version": "3.8.10"
  }
 },
 "nbformat": 4,
 "nbformat_minor": 5
}
